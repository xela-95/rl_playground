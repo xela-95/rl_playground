{
 "cells": [
  {
   "cell_type": "markdown",
   "metadata": {},
   "source": [
    "# Reinforcement Learning with  TF Agents\n",
    "\n",
    "Inspired by: \"Hands-On Machine Learning with Scikit-Learn, Keras, and Tensorflow: Concepts, Tools, and Techniques to Build Intelligent Systems\", 2nd Edition by Aurélien Géron, O'Reilly\n",
    "\n",
    "https://github.com/ageron/handson-ml2"
   ]
  },
  {
   "cell_type": "markdown",
   "metadata": {},
   "source": [
    "## Setup"
   ]
  },
  {
   "cell_type": "code",
   "execution_count": 8,
   "metadata": {},
   "outputs": [],
   "source": [
    "import numpy as np\n",
    "import os\n",
    "\n",
    "import tensorflow as tf\n",
    "from tensorflow import keras\n",
    "\n",
    "%matplotlib inline\n",
    "import matplotlib as mpl\n",
    "import matplotlib.pyplot as plt\n",
    "mpl.rc('axes', labelsize=14)\n",
    "mpl.rc('xtick', labelsize=12)\n",
    "mpl.rc('ytick', labelsize=12)\n",
    "\n",
    "# To get smooth animations\n",
    "import matplotlib.animation as animation\n",
    "mpl.rc('animation', html='jshtml')\n",
    "\n",
    "# Where to save the figures\n",
    "PROJECT_ROOT_DIR = \".\"\n",
    "IMAGES_PATH = os.path.join(PROJECT_ROOT_DIR, \"images\")\n",
    "os.makedirs(IMAGES_PATH, exist_ok=True)\n",
    "\n",
    "def save_fig(fig_id, tight_layout=True, fig_extension=\"png\", resolution=300):\n",
    "    path = os.path.join(IMAGES_PATH, fig_id + \".\" + fig_extension)\n",
    "    print(\"Saving figure\", fig_id)\n",
    "    if tight_layout:\n",
    "        plt.tight_layout()\n",
    "    plt.savefig(path, format=fig_extension, dpi=resolution)\n"
   ]
  },
  {
   "cell_type": "markdown",
   "metadata": {},
   "source": [
    "## Intro to OpenAI gym"
   ]
  },
  {
   "cell_type": "code",
   "execution_count": 9,
   "metadata": {},
   "outputs": [],
   "source": [
    "import gym"
   ]
  },
  {
   "cell_type": "code",
   "execution_count": 10,
   "metadata": {},
   "outputs": [
    {
     "data": {
      "text/plain": [
       "ValuesView(├──ALE\n",
       "│   ├──ALE/Tetris: [ v5 ]\n",
       "│   ├──ALE/Tetris-ram: [ v5 ]\n",
       "│   ├──ALE/Adventure: [ v5 ]\n",
       "│   ├──ALE/Adventure-ram: [ v5 ]\n",
       "│   ├──ALE/AirRaid: [ v5 ]\n",
       "│   ├──ALE/AirRaid-ram: [ v5 ]\n",
       "│   ├──ALE/Alien: [ v5 ]\n",
       "│   ├──ALE/Alien-ram: [ v5 ]\n",
       "│   ├──ALE/Amidar: [ v5 ]\n",
       "│   ├──ALE/Amidar-ram: [ v5 ]\n",
       "│   ├──ALE/Assault: [ v5 ]\n",
       "│   ├──ALE/Assault-ram: [ v5 ]\n",
       "│   ├──ALE/Asterix: [ v5 ]\n",
       "│   ├──ALE/Asterix-ram: [ v5 ]\n",
       "│   ├──ALE/Asteroids: [ v5 ]\n",
       "│   ├──ALE/Asteroids-ram: [ v5 ]\n",
       "│   ├──ALE/Atlantis: [ v5 ]\n",
       "│   ├──ALE/Atlantis-ram: [ v5 ]\n",
       "│   ├──ALE/Atlantis2: [ v5 ]\n",
       "│   ├──ALE/Atlantis2-ram: [ v5 ]\n",
       "│   ├──ALE/Backgammon: [ v5 ]\n",
       "│   ├──ALE/Backgammon-ram: [ v5 ]\n",
       "│   ├──ALE/BankHeist: [ v5 ]\n",
       "│   ├──ALE/BankHeist-ram: [ v5 ]\n",
       "│   ├──ALE/BasicMath: [ v5 ]\n",
       "│   ├──ALE/BasicMath-ram: [ v5 ]\n",
       "│   ├──ALE/BattleZone: [ v5 ]\n",
       "│   ├──ALE/BattleZone-ram: [ v5 ]\n",
       "│   ├──ALE/BeamRider: [ v5 ]\n",
       "│   ├──ALE/BeamRider-ram: [ v5 ]\n",
       "│   ├──ALE/Berzerk: [ v5 ]\n",
       "│   ├──ALE/Berzerk-ram: [ v5 ]\n",
       "│   ├──ALE/Blackjack: [ v5 ]\n",
       "│   ├──ALE/Blackjack-ram: [ v5 ]\n",
       "│   ├──ALE/Bowling: [ v5 ]\n",
       "│   ├──ALE/Bowling-ram: [ v5 ]\n",
       "│   ├──ALE/Boxing: [ v5 ]\n",
       "│   ├──ALE/Boxing-ram: [ v5 ]\n",
       "│   ├──ALE/Breakout: [ v5 ]\n",
       "│   ├──ALE/Breakout-ram: [ v5 ]\n",
       "│   ├──ALE/Carnival: [ v5 ]\n",
       "│   ├──ALE/Carnival-ram: [ v5 ]\n",
       "│   ├──ALE/Casino: [ v5 ]\n",
       "│   ├──ALE/Casino-ram: [ v5 ]\n",
       "│   ├──ALE/Centipede: [ v5 ]\n",
       "│   ├──ALE/Centipede-ram: [ v5 ]\n",
       "│   ├──ALE/ChopperCommand: [ v5 ]\n",
       "│   ├──ALE/ChopperCommand-ram: [ v5 ]\n",
       "│   ├──ALE/CrazyClimber: [ v5 ]\n",
       "│   ├──ALE/CrazyClimber-ram: [ v5 ]\n",
       "│   ├──ALE/Crossbow: [ v5 ]\n",
       "│   ├──ALE/Crossbow-ram: [ v5 ]\n",
       "│   ├──ALE/Darkchambers: [ v5 ]\n",
       "│   ├──ALE/Darkchambers-ram: [ v5 ]\n",
       "│   ├──ALE/Defender: [ v5 ]\n",
       "│   ├──ALE/Defender-ram: [ v5 ]\n",
       "│   ├──ALE/DemonAttack: [ v5 ]\n",
       "│   ├──ALE/DemonAttack-ram: [ v5 ]\n",
       "│   ├──ALE/DonkeyKong: [ v5 ]\n",
       "│   ├──ALE/DonkeyKong-ram: [ v5 ]\n",
       "│   ├──ALE/DoubleDunk: [ v5 ]\n",
       "│   ├──ALE/DoubleDunk-ram: [ v5 ]\n",
       "│   ├──ALE/Earthworld: [ v5 ]\n",
       "│   ├──ALE/Earthworld-ram: [ v5 ]\n",
       "│   ├──ALE/ElevatorAction: [ v5 ]\n",
       "│   ├──ALE/ElevatorAction-ram: [ v5 ]\n",
       "│   ├──ALE/Enduro: [ v5 ]\n",
       "│   ├──ALE/Enduro-ram: [ v5 ]\n",
       "│   ├──ALE/Entombed: [ v5 ]\n",
       "│   ├──ALE/Entombed-ram: [ v5 ]\n",
       "│   ├──ALE/Et: [ v5 ]\n",
       "│   ├──ALE/Et-ram: [ v5 ]\n",
       "│   ├──ALE/FishingDerby: [ v5 ]\n",
       "│   ├──ALE/FishingDerby-ram: [ v5 ]\n",
       "│   ├──ALE/FlagCapture: [ v5 ]\n",
       "│   ├──ALE/FlagCapture-ram: [ v5 ]\n",
       "│   ├──ALE/Freeway: [ v5 ]\n",
       "│   ├──ALE/Freeway-ram: [ v5 ]\n",
       "│   ├──ALE/Frogger: [ v5 ]\n",
       "│   ├──ALE/Frogger-ram: [ v5 ]\n",
       "│   ├──ALE/Frostbite: [ v5 ]\n",
       "│   ├──ALE/Frostbite-ram: [ v5 ]\n",
       "│   ├──ALE/Galaxian: [ v5 ]\n",
       "│   ├──ALE/Galaxian-ram: [ v5 ]\n",
       "│   ├──ALE/Gopher: [ v5 ]\n",
       "│   ├──ALE/Gopher-ram: [ v5 ]\n",
       "│   ├──ALE/Gravitar: [ v5 ]\n",
       "│   ├──ALE/Gravitar-ram: [ v5 ]\n",
       "│   ├──ALE/Hangman: [ v5 ]\n",
       "│   ├──ALE/Hangman-ram: [ v5 ]\n",
       "│   ├──ALE/HauntedHouse: [ v5 ]\n",
       "│   ├──ALE/HauntedHouse-ram: [ v5 ]\n",
       "│   ├──ALE/Hero: [ v5 ]\n",
       "│   ├──ALE/Hero-ram: [ v5 ]\n",
       "│   ├──ALE/HumanCannonball: [ v5 ]\n",
       "│   ├──ALE/HumanCannonball-ram: [ v5 ]\n",
       "│   ├──ALE/IceHockey: [ v5 ]\n",
       "│   ├──ALE/IceHockey-ram: [ v5 ]\n",
       "│   ├──ALE/Jamesbond: [ v5 ]\n",
       "│   ├──ALE/Jamesbond-ram: [ v5 ]\n",
       "│   ├──ALE/JourneyEscape: [ v5 ]\n",
       "│   ├──ALE/JourneyEscape-ram: [ v5 ]\n",
       "│   ├──ALE/Kaboom: [ v5 ]\n",
       "│   ├──ALE/Kaboom-ram: [ v5 ]\n",
       "│   ├──ALE/Kangaroo: [ v5 ]\n",
       "│   ├──ALE/Kangaroo-ram: [ v5 ]\n",
       "│   ├──ALE/KeystoneKapers: [ v5 ]\n",
       "│   ├──ALE/KeystoneKapers-ram: [ v5 ]\n",
       "│   ├──ALE/KingKong: [ v5 ]\n",
       "│   ├──ALE/KingKong-ram: [ v5 ]\n",
       "│   ├──ALE/Klax: [ v5 ]\n",
       "│   ├──ALE/Klax-ram: [ v5 ]\n",
       "│   ├──ALE/Koolaid: [ v5 ]\n",
       "│   ├──ALE/Koolaid-ram: [ v5 ]\n",
       "│   ├──ALE/Krull: [ v5 ]\n",
       "│   ├──ALE/Krull-ram: [ v5 ]\n",
       "│   ├──ALE/KungFuMaster: [ v5 ]\n",
       "│   ├──ALE/KungFuMaster-ram: [ v5 ]\n",
       "│   ├──ALE/LaserGates: [ v5 ]\n",
       "│   ├──ALE/LaserGates-ram: [ v5 ]\n",
       "│   ├──ALE/LostLuggage: [ v5 ]\n",
       "│   ├──ALE/LostLuggage-ram: [ v5 ]\n",
       "│   ├──ALE/MarioBros: [ v5 ]\n",
       "│   ├──ALE/MarioBros-ram: [ v5 ]\n",
       "│   ├──ALE/MiniatureGolf: [ v5 ]\n",
       "│   ├──ALE/MiniatureGolf-ram: [ v5 ]\n",
       "│   ├──ALE/MontezumaRevenge: [ v5 ]\n",
       "│   ├──ALE/MontezumaRevenge-ram: [ v5 ]\n",
       "│   ├──ALE/MrDo: [ v5 ]\n",
       "│   ├──ALE/MrDo-ram: [ v5 ]\n",
       "│   ├──ALE/MsPacman: [ v5 ]\n",
       "│   ├──ALE/MsPacman-ram: [ v5 ]\n",
       "│   ├──ALE/NameThisGame: [ v5 ]\n",
       "│   ├──ALE/NameThisGame-ram: [ v5 ]\n",
       "│   ├──ALE/Othello: [ v5 ]\n",
       "│   ├──ALE/Othello-ram: [ v5 ]\n",
       "│   ├──ALE/Pacman: [ v5 ]\n",
       "│   ├──ALE/Pacman-ram: [ v5 ]\n",
       "│   ├──ALE/Phoenix: [ v5 ]\n",
       "│   ├──ALE/Phoenix-ram: [ v5 ]\n",
       "│   ├──ALE/Pitfall: [ v5 ]\n",
       "│   ├──ALE/Pitfall-ram: [ v5 ]\n",
       "│   ├──ALE/Pitfall2: [ v5 ]\n",
       "│   ├──ALE/Pitfall2-ram: [ v5 ]\n",
       "│   ├──ALE/Pong: [ v5 ]\n",
       "│   ├──ALE/Pong-ram: [ v5 ]\n",
       "│   ├──ALE/Pooyan: [ v5 ]\n",
       "│   ├──ALE/Pooyan-ram: [ v5 ]\n",
       "│   ├──ALE/PrivateEye: [ v5 ]\n",
       "│   ├──ALE/PrivateEye-ram: [ v5 ]\n",
       "│   ├──ALE/Qbert: [ v5 ]\n",
       "│   ├──ALE/Qbert-ram: [ v5 ]\n",
       "│   ├──ALE/Riverraid: [ v5 ]\n",
       "│   ├──ALE/Riverraid-ram: [ v5 ]\n",
       "│   ├──ALE/RoadRunner: [ v5 ]\n",
       "│   ├──ALE/RoadRunner-ram: [ v5 ]\n",
       "│   ├──ALE/Robotank: [ v5 ]\n",
       "│   ├──ALE/Robotank-ram: [ v5 ]\n",
       "│   ├──ALE/Seaquest: [ v5 ]\n",
       "│   ├──ALE/Seaquest-ram: [ v5 ]\n",
       "│   ├──ALE/SirLancelot: [ v5 ]\n",
       "│   ├──ALE/SirLancelot-ram: [ v5 ]\n",
       "│   ├──ALE/Skiing: [ v5 ]\n",
       "│   ├──ALE/Skiing-ram: [ v5 ]\n",
       "│   ├──ALE/Solaris: [ v5 ]\n",
       "│   ├──ALE/Solaris-ram: [ v5 ]\n",
       "│   ├──ALE/SpaceInvaders: [ v5 ]\n",
       "│   ├──ALE/SpaceInvaders-ram: [ v5 ]\n",
       "│   ├──ALE/SpaceWar: [ v5 ]\n",
       "│   ├──ALE/SpaceWar-ram: [ v5 ]\n",
       "│   ├──ALE/StarGunner: [ v5 ]\n",
       "│   ├──ALE/StarGunner-ram: [ v5 ]\n",
       "│   ├──ALE/Superman: [ v5 ]\n",
       "│   ├──ALE/Superman-ram: [ v5 ]\n",
       "│   ├──ALE/Surround: [ v5 ]\n",
       "│   ├──ALE/Surround-ram: [ v5 ]\n",
       "│   ├──ALE/Tennis: [ v5 ]\n",
       "│   ├──ALE/Tennis-ram: [ v5 ]\n",
       "│   ├──ALE/TicTacToe3D: [ v5 ]\n",
       "│   ├──ALE/TicTacToe3D-ram: [ v5 ]\n",
       "│   ├──ALE/TimePilot: [ v5 ]\n",
       "│   ├──ALE/TimePilot-ram: [ v5 ]\n",
       "│   ├──ALE/Trondead: [ v5 ]\n",
       "│   ├──ALE/Trondead-ram: [ v5 ]\n",
       "│   ├──ALE/Turmoil: [ v5 ]\n",
       "│   ├──ALE/Turmoil-ram: [ v5 ]\n",
       "│   ├──ALE/Tutankham: [ v5 ]\n",
       "│   ├──ALE/Tutankham-ram: [ v5 ]\n",
       "│   ├──ALE/UpNDown: [ v5 ]\n",
       "│   ├──ALE/UpNDown-ram: [ v5 ]\n",
       "│   ├──ALE/Venture: [ v5 ]\n",
       "│   ├──ALE/Venture-ram: [ v5 ]\n",
       "│   ├──ALE/VideoCheckers: [ v5 ]\n",
       "│   ├──ALE/VideoCheckers-ram: [ v5 ]\n",
       "│   ├──ALE/Videochess: [ v5 ]\n",
       "│   ├──ALE/Videochess-ram: [ v5 ]\n",
       "│   ├──ALE/Videocube: [ v5 ]\n",
       "│   ├──ALE/Videocube-ram: [ v5 ]\n",
       "│   ├──ALE/VideoPinball: [ v5 ]\n",
       "│   ├──ALE/VideoPinball-ram: [ v5 ]\n",
       "│   ├──ALE/WizardOfWor: [ v5 ]\n",
       "│   ├──ALE/WizardOfWor-ram: [ v5 ]\n",
       "│   ├──ALE/WordZapper: [ v5 ]\n",
       "│   ├──ALE/WordZapper-ram: [ v5 ]\n",
       "│   ├──ALE/YarsRevenge: [ v5 ]\n",
       "│   ├──ALE/YarsRevenge-ram: [ v5 ]\n",
       "│   ├──ALE/Zaxxon: [ v5 ]\n",
       "│   └──ALE/Zaxxon-ram: [ v5 ]\n",
       "│\n",
       "├──Adventure: [ v0, v4 ]\n",
       "├──AdventureDeterministic: [ v0, v4 ]\n",
       "├──AdventureNoFrameskip: [ v0, v4 ]\n",
       "├──Adventure-ram: [ v0, v4 ]\n",
       "├──Adventure-ramDeterministic: [ v0, v4 ]\n",
       "├──Adventure-ramNoFrameskip: [ v0, v4 ]\n",
       "├──AirRaid: [ v0, v4 ]\n",
       "├──AirRaidDeterministic: [ v0, v4 ]\n",
       "├──AirRaidNoFrameskip: [ v0, v4 ]\n",
       "├──AirRaid-ram: [ v0, v4 ]\n",
       "├──AirRaid-ramDeterministic: [ v0, v4 ]\n",
       "├──AirRaid-ramNoFrameskip: [ v0, v4 ]\n",
       "├──Alien: [ v0, v4 ]\n",
       "├──AlienDeterministic: [ v0, v4 ]\n",
       "├──AlienNoFrameskip: [ v0, v4 ]\n",
       "├──Alien-ram: [ v0, v4 ]\n",
       "├──Alien-ramDeterministic: [ v0, v4 ]\n",
       "├──Alien-ramNoFrameskip: [ v0, v4 ]\n",
       "├──Amidar: [ v0, v4 ]\n",
       "├──AmidarDeterministic: [ v0, v4 ]\n",
       "├──AmidarNoFrameskip: [ v0, v4 ]\n",
       "├──Amidar-ram: [ v0, v4 ]\n",
       "├──Amidar-ramDeterministic: [ v0, v4 ]\n",
       "├──Amidar-ramNoFrameskip: [ v0, v4 ]\n",
       "├──Assault: [ v0, v4 ]\n",
       "├──AssaultDeterministic: [ v0, v4 ]\n",
       "├──AssaultNoFrameskip: [ v0, v4 ]\n",
       "├──Assault-ram: [ v0, v4 ]\n",
       "├──Assault-ramDeterministic: [ v0, v4 ]\n",
       "├──Assault-ramNoFrameskip: [ v0, v4 ]\n",
       "├──Asterix: [ v0, v4 ]\n",
       "├──AsterixDeterministic: [ v0, v4 ]\n",
       "├──AsterixNoFrameskip: [ v0, v4 ]\n",
       "├──Asterix-ram: [ v0, v4 ]\n",
       "├──Asterix-ramDeterministic: [ v0, v4 ]\n",
       "├──Asterix-ramNoFrameskip: [ v0, v4 ]\n",
       "├──Asteroids: [ v0, v4 ]\n",
       "├──AsteroidsDeterministic: [ v0, v4 ]\n",
       "├──AsteroidsNoFrameskip: [ v0, v4 ]\n",
       "├──Asteroids-ram: [ v0, v4 ]\n",
       "├──Asteroids-ramDeterministic: [ v0, v4 ]\n",
       "├──Asteroids-ramNoFrameskip: [ v0, v4 ]\n",
       "├──Atlantis: [ v0, v4 ]\n",
       "├──AtlantisDeterministic: [ v0, v4 ]\n",
       "├──AtlantisNoFrameskip: [ v0, v4 ]\n",
       "├──Atlantis-ram: [ v0, v4 ]\n",
       "├──Atlantis-ramDeterministic: [ v0, v4 ]\n",
       "├──Atlantis-ramNoFrameskip: [ v0, v4 ]\n",
       "├──BankHeist: [ v0, v4 ]\n",
       "├──BankHeistDeterministic: [ v0, v4 ]\n",
       "├──BankHeistNoFrameskip: [ v0, v4 ]\n",
       "├──BankHeist-ram: [ v0, v4 ]\n",
       "├──BankHeist-ramDeterministic: [ v0, v4 ]\n",
       "├──BankHeist-ramNoFrameskip: [ v0, v4 ]\n",
       "├──BattleZone: [ v0, v4 ]\n",
       "├──BattleZoneDeterministic: [ v0, v4 ]\n",
       "├──BattleZoneNoFrameskip: [ v0, v4 ]\n",
       "├──BattleZone-ram: [ v0, v4 ]\n",
       "├──BattleZone-ramDeterministic: [ v0, v4 ]\n",
       "├──BattleZone-ramNoFrameskip: [ v0, v4 ]\n",
       "├──BeamRider: [ v0, v4 ]\n",
       "├──BeamRiderDeterministic: [ v0, v4 ]\n",
       "├──BeamRiderNoFrameskip: [ v0, v4 ]\n",
       "├──BeamRider-ram: [ v0, v4 ]\n",
       "├──BeamRider-ramDeterministic: [ v0, v4 ]\n",
       "├──BeamRider-ramNoFrameskip: [ v0, v4 ]\n",
       "├──Berzerk: [ v0, v4 ]\n",
       "├──BerzerkDeterministic: [ v0, v4 ]\n",
       "├──BerzerkNoFrameskip: [ v0, v4 ]\n",
       "├──Berzerk-ram: [ v0, v4 ]\n",
       "├──Berzerk-ramDeterministic: [ v0, v4 ]\n",
       "├──Berzerk-ramNoFrameskip: [ v0, v4 ]\n",
       "├──Bowling: [ v0, v4 ]\n",
       "├──BowlingDeterministic: [ v0, v4 ]\n",
       "├──BowlingNoFrameskip: [ v0, v4 ]\n",
       "├──Bowling-ram: [ v0, v4 ]\n",
       "├──Bowling-ramDeterministic: [ v0, v4 ]\n",
       "├──Bowling-ramNoFrameskip: [ v0, v4 ]\n",
       "├──Boxing: [ v0, v4 ]\n",
       "├──BoxingDeterministic: [ v0, v4 ]\n",
       "├──BoxingNoFrameskip: [ v0, v4 ]\n",
       "├──Boxing-ram: [ v0, v4 ]\n",
       "├──Boxing-ramDeterministic: [ v0, v4 ]\n",
       "├──Boxing-ramNoFrameskip: [ v0, v4 ]\n",
       "├──Breakout: [ v0, v4 ]\n",
       "├──BreakoutDeterministic: [ v0, v4 ]\n",
       "├──BreakoutNoFrameskip: [ v0, v4 ]\n",
       "├──Breakout-ram: [ v0, v4 ]\n",
       "├──Breakout-ramDeterministic: [ v0, v4 ]\n",
       "├──Breakout-ramNoFrameskip: [ v0, v4 ]\n",
       "├──Carnival: [ v0, v4 ]\n",
       "├──CarnivalDeterministic: [ v0, v4 ]\n",
       "├──CarnivalNoFrameskip: [ v0, v4 ]\n",
       "├──Carnival-ram: [ v0, v4 ]\n",
       "├──Carnival-ramDeterministic: [ v0, v4 ]\n",
       "├──Carnival-ramNoFrameskip: [ v0, v4 ]\n",
       "├──Centipede: [ v0, v4 ]\n",
       "├──CentipedeDeterministic: [ v0, v4 ]\n",
       "├──CentipedeNoFrameskip: [ v0, v4 ]\n",
       "├──Centipede-ram: [ v0, v4 ]\n",
       "├──Centipede-ramDeterministic: [ v0, v4 ]\n",
       "├──Centipede-ramNoFrameskip: [ v0, v4 ]\n",
       "├──ChopperCommand: [ v0, v4 ]\n",
       "├──ChopperCommandDeterministic: [ v0, v4 ]\n",
       "├──ChopperCommandNoFrameskip: [ v0, v4 ]\n",
       "├──ChopperCommand-ram: [ v0, v4 ]\n",
       "├──ChopperCommand-ramDeterministic: [ v0, v4 ]\n",
       "├──ChopperCommand-ramNoFrameskip: [ v0, v4 ]\n",
       "├──CrazyClimber: [ v0, v4 ]\n",
       "├──CrazyClimberDeterministic: [ v0, v4 ]\n",
       "├──CrazyClimberNoFrameskip: [ v0, v4 ]\n",
       "├──CrazyClimber-ram: [ v0, v4 ]\n",
       "├──CrazyClimber-ramDeterministic: [ v0, v4 ]\n",
       "├──CrazyClimber-ramNoFrameskip: [ v0, v4 ]\n",
       "├──Defender: [ v0, v4 ]\n",
       "├──DefenderDeterministic: [ v0, v4 ]\n",
       "├──DefenderNoFrameskip: [ v0, v4 ]\n",
       "├──Defender-ram: [ v0, v4 ]\n",
       "├──Defender-ramDeterministic: [ v0, v4 ]\n",
       "├──Defender-ramNoFrameskip: [ v0, v4 ]\n",
       "├──DemonAttack: [ v0, v4 ]\n",
       "├──DemonAttackDeterministic: [ v0, v4 ]\n",
       "├──DemonAttackNoFrameskip: [ v0, v4 ]\n",
       "├──DemonAttack-ram: [ v0, v4 ]\n",
       "├──DemonAttack-ramDeterministic: [ v0, v4 ]\n",
       "├──DemonAttack-ramNoFrameskip: [ v0, v4 ]\n",
       "├──DoubleDunk: [ v0, v4 ]\n",
       "├──DoubleDunkDeterministic: [ v0, v4 ]\n",
       "├──DoubleDunkNoFrameskip: [ v0, v4 ]\n",
       "├──DoubleDunk-ram: [ v0, v4 ]\n",
       "├──DoubleDunk-ramDeterministic: [ v0, v4 ]\n",
       "├──DoubleDunk-ramNoFrameskip: [ v0, v4 ]\n",
       "├──ElevatorAction: [ v0, v4 ]\n",
       "├──ElevatorActionDeterministic: [ v0, v4 ]\n",
       "├──ElevatorActionNoFrameskip: [ v0, v4 ]\n",
       "├──ElevatorAction-ram: [ v0, v4 ]\n",
       "├──ElevatorAction-ramDeterministic: [ v0, v4 ]\n",
       "├──ElevatorAction-ramNoFrameskip: [ v0, v4 ]\n",
       "├──Enduro: [ v0, v4 ]\n",
       "├──EnduroDeterministic: [ v0, v4 ]\n",
       "├──EnduroNoFrameskip: [ v0, v4 ]\n",
       "├──Enduro-ram: [ v0, v4 ]\n",
       "├──Enduro-ramDeterministic: [ v0, v4 ]\n",
       "├──Enduro-ramNoFrameskip: [ v0, v4 ]\n",
       "├──FishingDerby: [ v0, v4 ]\n",
       "├──FishingDerbyDeterministic: [ v0, v4 ]\n",
       "├──FishingDerbyNoFrameskip: [ v0, v4 ]\n",
       "├──FishingDerby-ram: [ v0, v4 ]\n",
       "├──FishingDerby-ramDeterministic: [ v0, v4 ]\n",
       "├──FishingDerby-ramNoFrameskip: [ v0, v4 ]\n",
       "├──Freeway: [ v0, v4 ]\n",
       "├──FreewayDeterministic: [ v0, v4 ]\n",
       "├──FreewayNoFrameskip: [ v0, v4 ]\n",
       "├──Freeway-ram: [ v0, v4 ]\n",
       "├──Freeway-ramDeterministic: [ v0, v4 ]\n",
       "├──Freeway-ramNoFrameskip: [ v0, v4 ]\n",
       "├──Frostbite: [ v0, v4 ]\n",
       "├──FrostbiteDeterministic: [ v0, v4 ]\n",
       "├──FrostbiteNoFrameskip: [ v0, v4 ]\n",
       "├──Frostbite-ram: [ v0, v4 ]\n",
       "├──Frostbite-ramDeterministic: [ v0, v4 ]\n",
       "├──Frostbite-ramNoFrameskip: [ v0, v4 ]\n",
       "├──Gopher: [ v0, v4 ]\n",
       "├──GopherDeterministic: [ v0, v4 ]\n",
       "├──GopherNoFrameskip: [ v0, v4 ]\n",
       "├──Gopher-ram: [ v0, v4 ]\n",
       "├──Gopher-ramDeterministic: [ v0, v4 ]\n",
       "├──Gopher-ramNoFrameskip: [ v0, v4 ]\n",
       "├──Gravitar: [ v0, v4 ]\n",
       "├──GravitarDeterministic: [ v0, v4 ]\n",
       "├──GravitarNoFrameskip: [ v0, v4 ]\n",
       "├──Gravitar-ram: [ v0, v4 ]\n",
       "├──Gravitar-ramDeterministic: [ v0, v4 ]\n",
       "├──Gravitar-ramNoFrameskip: [ v0, v4 ]\n",
       "├──Hero: [ v0, v4 ]\n",
       "├──HeroDeterministic: [ v0, v4 ]\n",
       "├──HeroNoFrameskip: [ v0, v4 ]\n",
       "├──Hero-ram: [ v0, v4 ]\n",
       "├──Hero-ramDeterministic: [ v0, v4 ]\n",
       "├──Hero-ramNoFrameskip: [ v0, v4 ]\n",
       "├──IceHockey: [ v0, v4 ]\n",
       "├──IceHockeyDeterministic: [ v0, v4 ]\n",
       "├──IceHockeyNoFrameskip: [ v0, v4 ]\n",
       "├──IceHockey-ram: [ v0, v4 ]\n",
       "├──IceHockey-ramDeterministic: [ v0, v4 ]\n",
       "├──IceHockey-ramNoFrameskip: [ v0, v4 ]\n",
       "├──Jamesbond: [ v0, v4 ]\n",
       "├──JamesbondDeterministic: [ v0, v4 ]\n",
       "├──JamesbondNoFrameskip: [ v0, v4 ]\n",
       "├──Jamesbond-ram: [ v0, v4 ]\n",
       "├──Jamesbond-ramDeterministic: [ v0, v4 ]\n",
       "├──Jamesbond-ramNoFrameskip: [ v0, v4 ]\n",
       "├──JourneyEscape: [ v0, v4 ]\n",
       "├──JourneyEscapeDeterministic: [ v0, v4 ]\n",
       "├──JourneyEscapeNoFrameskip: [ v0, v4 ]\n",
       "├──JourneyEscape-ram: [ v0, v4 ]\n",
       "├──JourneyEscape-ramDeterministic: [ v0, v4 ]\n",
       "├──JourneyEscape-ramNoFrameskip: [ v0, v4 ]\n",
       "├──Kangaroo: [ v0, v4 ]\n",
       "├──KangarooDeterministic: [ v0, v4 ]\n",
       "├──KangarooNoFrameskip: [ v0, v4 ]\n",
       "├──Kangaroo-ram: [ v0, v4 ]\n",
       "├──Kangaroo-ramDeterministic: [ v0, v4 ]\n",
       "├──Kangaroo-ramNoFrameskip: [ v0, v4 ]\n",
       "├──Krull: [ v0, v4 ]\n",
       "├──KrullDeterministic: [ v0, v4 ]\n",
       "├──KrullNoFrameskip: [ v0, v4 ]\n",
       "├──Krull-ram: [ v0, v4 ]\n",
       "├──Krull-ramDeterministic: [ v0, v4 ]\n",
       "├──Krull-ramNoFrameskip: [ v0, v4 ]\n",
       "├──KungFuMaster: [ v0, v4 ]\n",
       "├──KungFuMasterDeterministic: [ v0, v4 ]\n",
       "├──KungFuMasterNoFrameskip: [ v0, v4 ]\n",
       "├──KungFuMaster-ram: [ v0, v4 ]\n",
       "├──KungFuMaster-ramDeterministic: [ v0, v4 ]\n",
       "├──KungFuMaster-ramNoFrameskip: [ v0, v4 ]\n",
       "├──MontezumaRevenge: [ v0, v4 ]\n",
       "├──MontezumaRevengeDeterministic: [ v0, v4 ]\n",
       "├──MontezumaRevengeNoFrameskip: [ v0, v4 ]\n",
       "├──MontezumaRevenge-ram: [ v0, v4 ]\n",
       "├──MontezumaRevenge-ramDeterministic: [ v0, v4 ]\n",
       "├──MontezumaRevenge-ramNoFrameskip: [ v0, v4 ]\n",
       "├──MsPacman: [ v0, v4 ]\n",
       "├──MsPacmanDeterministic: [ v0, v4 ]\n",
       "├──MsPacmanNoFrameskip: [ v0, v4 ]\n",
       "├──MsPacman-ram: [ v0, v4 ]\n",
       "├──MsPacman-ramDeterministic: [ v0, v4 ]\n",
       "├──MsPacman-ramNoFrameskip: [ v0, v4 ]\n",
       "├──NameThisGame: [ v0, v4 ]\n",
       "├──NameThisGameDeterministic: [ v0, v4 ]\n",
       "├──NameThisGameNoFrameskip: [ v0, v4 ]\n",
       "├──NameThisGame-ram: [ v0, v4 ]\n",
       "├──NameThisGame-ramDeterministic: [ v0, v4 ]\n",
       "├──NameThisGame-ramNoFrameskip: [ v0, v4 ]\n",
       "├──Phoenix: [ v0, v4 ]\n",
       "├──PhoenixDeterministic: [ v0, v4 ]\n",
       "├──PhoenixNoFrameskip: [ v0, v4 ]\n",
       "├──Phoenix-ram: [ v0, v4 ]\n",
       "├──Phoenix-ramDeterministic: [ v0, v4 ]\n",
       "├──Phoenix-ramNoFrameskip: [ v0, v4 ]\n",
       "├──Pitfall: [ v0, v4 ]\n",
       "├──PitfallDeterministic: [ v0, v4 ]\n",
       "├──PitfallNoFrameskip: [ v0, v4 ]\n",
       "├──Pitfall-ram: [ v0, v4 ]\n",
       "├──Pitfall-ramDeterministic: [ v0, v4 ]\n",
       "├──Pitfall-ramNoFrameskip: [ v0, v4 ]\n",
       "├──Pong: [ v0, v4 ]\n",
       "├──PongDeterministic: [ v0, v4 ]\n",
       "├──PongNoFrameskip: [ v0, v4 ]\n",
       "├──Pong-ram: [ v0, v4 ]\n",
       "├──Pong-ramDeterministic: [ v0, v4 ]\n",
       "├──Pong-ramNoFrameskip: [ v0, v4 ]\n",
       "├──Pooyan: [ v0, v4 ]\n",
       "├──PooyanDeterministic: [ v0, v4 ]\n",
       "├──PooyanNoFrameskip: [ v0, v4 ]\n",
       "├──Pooyan-ram: [ v0, v4 ]\n",
       "├──Pooyan-ramDeterministic: [ v0, v4 ]\n",
       "├──Pooyan-ramNoFrameskip: [ v0, v4 ]\n",
       "├──PrivateEye: [ v0, v4 ]\n",
       "├──PrivateEyeDeterministic: [ v0, v4 ]\n",
       "├──PrivateEyeNoFrameskip: [ v0, v4 ]\n",
       "├──PrivateEye-ram: [ v0, v4 ]\n",
       "├──PrivateEye-ramDeterministic: [ v0, v4 ]\n",
       "├──PrivateEye-ramNoFrameskip: [ v0, v4 ]\n",
       "├──Qbert: [ v0, v4 ]\n",
       "├──QbertDeterministic: [ v0, v4 ]\n",
       "├──QbertNoFrameskip: [ v0, v4 ]\n",
       "├──Qbert-ram: [ v0, v4 ]\n",
       "├──Qbert-ramDeterministic: [ v0, v4 ]\n",
       "├──Qbert-ramNoFrameskip: [ v0, v4 ]\n",
       "├──Riverraid: [ v0, v4 ]\n",
       "├──RiverraidDeterministic: [ v0, v4 ]\n",
       "├──RiverraidNoFrameskip: [ v0, v4 ]\n",
       "├──Riverraid-ram: [ v0, v4 ]\n",
       "├──Riverraid-ramDeterministic: [ v0, v4 ]\n",
       "├──Riverraid-ramNoFrameskip: [ v0, v4 ]\n",
       "├──RoadRunner: [ v0, v4 ]\n",
       "├──RoadRunnerDeterministic: [ v0, v4 ]\n",
       "├──RoadRunnerNoFrameskip: [ v0, v4 ]\n",
       "├──RoadRunner-ram: [ v0, v4 ]\n",
       "├──RoadRunner-ramDeterministic: [ v0, v4 ]\n",
       "├──RoadRunner-ramNoFrameskip: [ v0, v4 ]\n",
       "├──Robotank: [ v0, v4 ]\n",
       "├──RobotankDeterministic: [ v0, v4 ]\n",
       "├──RobotankNoFrameskip: [ v0, v4 ]\n",
       "├──Robotank-ram: [ v0, v4 ]\n",
       "├──Robotank-ramDeterministic: [ v0, v4 ]\n",
       "├──Robotank-ramNoFrameskip: [ v0, v4 ]\n",
       "├──Seaquest: [ v0, v4 ]\n",
       "├──SeaquestDeterministic: [ v0, v4 ]\n",
       "├──SeaquestNoFrameskip: [ v0, v4 ]\n",
       "├──Seaquest-ram: [ v0, v4 ]\n",
       "├──Seaquest-ramDeterministic: [ v0, v4 ]\n",
       "├──Seaquest-ramNoFrameskip: [ v0, v4 ]\n",
       "├──Skiing: [ v0, v4 ]\n",
       "├──SkiingDeterministic: [ v0, v4 ]\n",
       "├──SkiingNoFrameskip: [ v0, v4 ]\n",
       "├──Skiing-ram: [ v0, v4 ]\n",
       "├──Skiing-ramDeterministic: [ v0, v4 ]\n",
       "├──Skiing-ramNoFrameskip: [ v0, v4 ]\n",
       "├──Solaris: [ v0, v4 ]\n",
       "├──SolarisDeterministic: [ v0, v4 ]\n",
       "├──SolarisNoFrameskip: [ v0, v4 ]\n",
       "├──Solaris-ram: [ v0, v4 ]\n",
       "├──Solaris-ramDeterministic: [ v0, v4 ]\n",
       "├──Solaris-ramNoFrameskip: [ v0, v4 ]\n",
       "├──SpaceInvaders: [ v0, v4 ]\n",
       "├──SpaceInvadersDeterministic: [ v0, v4 ]\n",
       "├──SpaceInvadersNoFrameskip: [ v0, v4 ]\n",
       "├──SpaceInvaders-ram: [ v0, v4 ]\n",
       "├──SpaceInvaders-ramDeterministic: [ v0, v4 ]\n",
       "├──SpaceInvaders-ramNoFrameskip: [ v0, v4 ]\n",
       "├──StarGunner: [ v0, v4 ]\n",
       "├──StarGunnerDeterministic: [ v0, v4 ]\n",
       "├──StarGunnerNoFrameskip: [ v0, v4 ]\n",
       "├──StarGunner-ram: [ v0, v4 ]\n",
       "├──StarGunner-ramDeterministic: [ v0, v4 ]\n",
       "├──StarGunner-ramNoFrameskip: [ v0, v4 ]\n",
       "├──Tennis: [ v0, v4 ]\n",
       "├──TennisDeterministic: [ v0, v4 ]\n",
       "├──TennisNoFrameskip: [ v0, v4 ]\n",
       "├──Tennis-ram: [ v0, v4 ]\n",
       "├──Tennis-ramDeterministic: [ v0, v4 ]\n",
       "├──Tennis-ramNoFrameskip: [ v0, v4 ]\n",
       "├──TimePilot: [ v0, v4 ]\n",
       "├──TimePilotDeterministic: [ v0, v4 ]\n",
       "├──TimePilotNoFrameskip: [ v0, v4 ]\n",
       "├──TimePilot-ram: [ v0, v4 ]\n",
       "├──TimePilot-ramDeterministic: [ v0, v4 ]\n",
       "├──TimePilot-ramNoFrameskip: [ v0, v4 ]\n",
       "├──Tutankham: [ v0, v4 ]\n",
       "├──TutankhamDeterministic: [ v0, v4 ]\n",
       "├──TutankhamNoFrameskip: [ v0, v4 ]\n",
       "├──Tutankham-ram: [ v0, v4 ]\n",
       "├──Tutankham-ramDeterministic: [ v0, v4 ]\n",
       "├──Tutankham-ramNoFrameskip: [ v0, v4 ]\n",
       "├──UpNDown: [ v0, v4 ]\n",
       "├──UpNDownDeterministic: [ v0, v4 ]\n",
       "├──UpNDownNoFrameskip: [ v0, v4 ]\n",
       "├──UpNDown-ram: [ v0, v4 ]\n",
       "├──UpNDown-ramDeterministic: [ v0, v4 ]\n",
       "├──UpNDown-ramNoFrameskip: [ v0, v4 ]\n",
       "├──Venture: [ v0, v4 ]\n",
       "├──VentureDeterministic: [ v0, v4 ]\n",
       "├──VentureNoFrameskip: [ v0, v4 ]\n",
       "├──Venture-ram: [ v0, v4 ]\n",
       "├──Venture-ramDeterministic: [ v0, v4 ]\n",
       "├──Venture-ramNoFrameskip: [ v0, v4 ]\n",
       "├──VideoPinball: [ v0, v4 ]\n",
       "├──VideoPinballDeterministic: [ v0, v4 ]\n",
       "├──VideoPinballNoFrameskip: [ v0, v4 ]\n",
       "├──VideoPinball-ram: [ v0, v4 ]\n",
       "├──VideoPinball-ramDeterministic: [ v0, v4 ]\n",
       "├──VideoPinball-ramNoFrameskip: [ v0, v4 ]\n",
       "├──WizardOfWor: [ v0, v4 ]\n",
       "├──WizardOfWorDeterministic: [ v0, v4 ]\n",
       "├──WizardOfWorNoFrameskip: [ v0, v4 ]\n",
       "├──WizardOfWor-ram: [ v0, v4 ]\n",
       "├──WizardOfWor-ramDeterministic: [ v0, v4 ]\n",
       "├──WizardOfWor-ramNoFrameskip: [ v0, v4 ]\n",
       "├──YarsRevenge: [ v0, v4 ]\n",
       "├──YarsRevengeDeterministic: [ v0, v4 ]\n",
       "├──YarsRevengeNoFrameskip: [ v0, v4 ]\n",
       "├──YarsRevenge-ram: [ v0, v4 ]\n",
       "├──YarsRevenge-ramDeterministic: [ v0, v4 ]\n",
       "├──YarsRevenge-ramNoFrameskip: [ v0, v4 ]\n",
       "├──Zaxxon: [ v0, v4 ]\n",
       "├──ZaxxonDeterministic: [ v0, v4 ]\n",
       "├──ZaxxonNoFrameskip: [ v0, v4 ]\n",
       "├──Zaxxon-ram: [ v0, v4 ]\n",
       "├──Zaxxon-ramDeterministic: [ v0, v4 ]\n",
       "├──Zaxxon-ramNoFrameskip: [ v0, v4 ]\n",
       "├──CartPole: [ v0, v1 ]\n",
       "├──MountainCar: [ v0 ]\n",
       "├──MountainCarContinuous: [ v0 ]\n",
       "├──Pendulum: [ v1 ]\n",
       "├──Acrobot: [ v1 ]\n",
       "├──LunarLander: [ v2 ]\n",
       "├──LunarLanderContinuous: [ v2 ]\n",
       "├──BipedalWalker: [ v3 ]\n",
       "├──BipedalWalkerHardcore: [ v3 ]\n",
       "├──CarRacing: [ v1 ]\n",
       "├──Blackjack: [ v1 ]\n",
       "├──FrozenLake: [ v1 ]\n",
       "├──FrozenLake8x8: [ v1 ]\n",
       "├──CliffWalking: [ v0 ]\n",
       "├──Taxi: [ v3 ]\n",
       "├──Reacher: [ v2 ]\n",
       "├──Pusher: [ v2 ]\n",
       "├──InvertedPendulum: [ v2 ]\n",
       "├──InvertedDoublePendulum: [ v2 ]\n",
       "├──HalfCheetah: [ v2, v3 ]\n",
       "├──Hopper: [ v2, v3 ]\n",
       "├──Swimmer: [ v2, v3 ]\n",
       "├──Walker2d: [ v2, v3 ]\n",
       "├──Ant: [ v2, v3 ]\n",
       "├──Humanoid: [ v2, v3 ]\n",
       "└──HumanoidStandup: [ v2 ]\n",
       ")"
      ]
     },
     "execution_count": 10,
     "metadata": {},
     "output_type": "execute_result"
    }
   ],
   "source": [
    "# List available environments\n",
    "gym.envs.registry.all()"
   ]
  },
  {
   "cell_type": "code",
   "execution_count": 11,
   "metadata": {},
   "outputs": [],
   "source": [
    "# The Cart-Pole is a very simple environment composed of a cart that can move left or right, and pole placed vertically on top of it. The agent must move the cart left or right to keep the pole upright.\n",
    "env = gym.make('CartPole-v1')"
   ]
  },
  {
   "cell_type": "code",
   "execution_count": 12,
   "metadata": {},
   "outputs": [],
   "source": [
    "# Let's initialize the environment by calling is `reset()` method. This returns an observation:\n",
    "env.seed(42)\n",
    "obs = env.reset()"
   ]
  },
  {
   "cell_type": "code",
   "execution_count": 13,
   "metadata": {},
   "outputs": [
    {
     "data": {
      "text/plain": [
       "array([ 0.0273956 , -0.00611216,  0.03585979,  0.0197368 ], dtype=float32)"
      ]
     },
     "execution_count": 13,
     "metadata": {},
     "output_type": "execute_result"
    }
   ],
   "source": [
    "# Observations vary depending on the environment. \n",
    "# In this case it is a 1D NumPy array composed of 4 floats: \n",
    "# they represent the cart's horizontal position, its velocity, the angle of the pole (0 = vertical), and the angular velocity.\n",
    "obs"
   ]
  },
  {
   "cell_type": "code",
   "execution_count": 14,
   "metadata": {},
   "outputs": [],
   "source": [
    "# An environment can be visualized by calling its render() method, and you can pick the rendering mode (the rendering options depend on the environment).\n",
    "\n",
    "# try:\n",
    "#     import pyvirtualdisplay\n",
    "#     display = pyvirtualdisplay.Display(visible=0, size=(1400, 900)).start()\n",
    "# except ImportError:\n",
    "#     pass\n",
    "\n",
    "# env.render()"
   ]
  },
  {
   "cell_type": "code",
   "execution_count": 15,
   "metadata": {},
   "outputs": [
    {
     "data": {
      "text/plain": [
       "(400, 600, 3)"
      ]
     },
     "execution_count": 15,
     "metadata": {},
     "output_type": "execute_result"
    }
   ],
   "source": [
    "img = env.render(mode='rgb_array')\n",
    "img.shape"
   ]
  },
  {
   "cell_type": "code",
   "execution_count": 16,
   "metadata": {},
   "outputs": [],
   "source": [
    "def plot_environment(env, figsize=(5,4)):\n",
    "    plt.figure(figsize=figsize)\n",
    "    img = env.render(mode='rgb_array')\n",
    "    plt.imshow(img)\n",
    "    plt.axis('off')\n",
    "    return img"
   ]
  },
  {
   "cell_type": "code",
   "execution_count": 17,
   "metadata": {},
   "outputs": [
    {
     "data": {
      "image/png": "[encoded data removed]",
      "text/plain": [
       "<Figure size 360x288 with 1 Axes>"
      ]
     },
     "metadata": {
      "needs_background": "light"
     },
     "output_type": "display_data"
    }
   ],
   "source": [
    "plot_environment(env)\n",
    "plt.show()"
   ]
  },
  {
   "cell_type": "code",
   "execution_count": 18,
   "metadata": {},
   "outputs": [
    {
     "data": {
      "text/plain": [
       "Discrete(2)"
      ]
     },
     "execution_count": 18,
     "metadata": {},
     "output_type": "execute_result"
    }
   ],
   "source": [
    "# Let's see how to interact with an environment. Your agent will need to select an action from an \"action space\" (the set of possible actions). Let's see what this environment's action space looks like:\n",
    "env.action_space"
   ]
  },
  {
   "cell_type": "code",
   "execution_count": 19,
   "metadata": {},
   "outputs": [
    {
     "data": {
      "text/plain": [
       "array([ 0.02727336,  0.18847767,  0.03625453, -0.26141977], dtype=float32)"
      ]
     },
     "execution_count": 19,
     "metadata": {},
     "output_type": "execute_result"
    }
   ],
   "source": [
    "# Yep, just two possible actions: accelerate towards the left or towards the right.\n",
    "action = 1 # towards the right\n",
    "obs, reward, done, info = env.step(action)\n",
    "obs"
   ]
  },
  {
   "cell_type": "code",
   "execution_count": 20,
   "metadata": {},
   "outputs": [
    {
     "name": "stdout",
     "output_type": "stream",
     "text": [
      "Saving figure cart_pole_plot\n"
     ]
    },
    {
     "data": {
      "image/png": "[encoded data removed]",
      "text/plain": [
       "<Figure size 360x288 with 1 Axes>"
      ]
     },
     "metadata": {
      "needs_background": "light"
     },
     "output_type": "display_data"
    }
   ],
   "source": [
    "plot_environment(env)\n",
    "save_fig('cart_pole_plot')"
   ]
  },
  {
   "cell_type": "code",
   "execution_count": 21,
   "metadata": {},
   "outputs": [
    {
     "name": "stdout",
     "output_type": "stream",
     "text": [
      "1.0\n",
      "False\n",
      "{}\n"
     ]
    }
   ],
   "source": [
    "# The environment also tells the agent how much reward it got during the last step:\n",
    "print(reward)\n",
    "# When the game is over, the environment returns done=True:\n",
    "print(done)\n",
    "# Finally, info is an environment-specific dictionary that can provide some extra information that you may find useful for debugging or for training. For example, in some games it may indicate how many lives the agent has.\n",
    "print(info)"
   ]
  },
  {
   "cell_type": "code",
   "execution_count": 22,
   "metadata": {},
   "outputs": [],
   "source": [
    "# The sequence of steps between the moment the environment is reset until it is done is called an \"episode\". At the end of an episode (i.e., when step() returns done=True), you should reset the environment before you continue to use it.\n",
    "if done:\n",
    "    env.reset()"
   ]
  },
  {
   "cell_type": "markdown",
   "metadata": {},
   "source": [
    "## Using TF Agents to beat Breakout"
   ]
  },
  {
   "cell_type": "code",
   "execution_count": 23,
   "metadata": {},
   "outputs": [],
   "source": [
    "tf.random.set_seed(42)\n",
    "np.random.seed(42)"
   ]
  },
  {
   "cell_type": "code",
   "execution_count": 24,
   "metadata": {},
   "outputs": [],
   "source": [
    "from tf_agents.environments import suite_gym"
   ]
  },
  {
   "cell_type": "code",
   "execution_count": 27,
   "metadata": {},
   "outputs": [
    {
     "data": {
      "text/plain": [
       "<tf_agents.environments.wrappers.TimeLimit at 0x1b7a4f60cd0>"
      ]
     },
     "execution_count": 27,
     "metadata": {},
     "output_type": "execute_result"
    }
   ],
   "source": [
    "env = suite_gym.load(\"Breakout-v4\")\n",
    "env"
   ]
  },
  {
   "cell_type": "code",
   "execution_count": 28,
   "metadata": {},
   "outputs": [
    {
     "data": {
      "text/plain": [
       "<TimeLimit<OrderEnforcing<AtariEnv<Breakout-v4>>>>"
      ]
     },
     "execution_count": 28,
     "metadata": {},
     "output_type": "execute_result"
    }
   ],
   "source": [
    "env.gym"
   ]
  },
  {
   "cell_type": "code",
   "execution_count": 29,
   "metadata": {},
   "outputs": [
    {
     "data": {
      "text/plain": [
       "TimeStep(\n",
       "{'discount': array(1., dtype=float32),\n",
       " 'observation': array([[[0, 0, 0],\n",
       "        [0, 0, 0],\n",
       "        [0, 0, 0],\n",
       "        ...,\n",
       "        [0, 0, 0],\n",
       "        [0, 0, 0],\n",
       "        [0, 0, 0]],\n",
       "\n",
       "       [[0, 0, 0],\n",
       "        [0, 0, 0],\n",
       "        [0, 0, 0],\n",
       "        ...,\n",
       "        [0, 0, 0],\n",
       "        [0, 0, 0],\n",
       "        [0, 0, 0]],\n",
       "\n",
       "       [[0, 0, 0],\n",
       "        [0, 0, 0],\n",
       "        [0, 0, 0],\n",
       "        ...,\n",
       "        [0, 0, 0],\n",
       "        [0, 0, 0],\n",
       "        [0, 0, 0]],\n",
       "\n",
       "       ...,\n",
       "\n",
       "       [[0, 0, 0],\n",
       "        [0, 0, 0],\n",
       "        [0, 0, 0],\n",
       "        ...,\n",
       "        [0, 0, 0],\n",
       "        [0, 0, 0],\n",
       "        [0, 0, 0]],\n",
       "\n",
       "       [[0, 0, 0],\n",
       "        [0, 0, 0],\n",
       "        [0, 0, 0],\n",
       "        ...,\n",
       "        [0, 0, 0],\n",
       "        [0, 0, 0],\n",
       "        [0, 0, 0]],\n",
       "\n",
       "       [[0, 0, 0],\n",
       "        [0, 0, 0],\n",
       "        [0, 0, 0],\n",
       "        ...,\n",
       "        [0, 0, 0],\n",
       "        [0, 0, 0],\n",
       "        [0, 0, 0]]], dtype=uint8),\n",
       " 'reward': array(0., dtype=float32),\n",
       " 'step_type': array(0)})"
      ]
     },
     "execution_count": 29,
     "metadata": {},
     "output_type": "execute_result"
    }
   ],
   "source": [
    "env.seed(42)\n",
    "env.reset()"
   ]
  },
  {
   "cell_type": "code",
   "execution_count": 30,
   "metadata": {},
   "outputs": [
    {
     "data": {
      "text/plain": [
       "TimeStep(\n",
       "{'discount': array(1., dtype=float32),\n",
       " 'observation': array([[[0, 0, 0],\n",
       "        [0, 0, 0],\n",
       "        [0, 0, 0],\n",
       "        ...,\n",
       "        [0, 0, 0],\n",
       "        [0, 0, 0],\n",
       "        [0, 0, 0]],\n",
       "\n",
       "       [[0, 0, 0],\n",
       "        [0, 0, 0],\n",
       "        [0, 0, 0],\n",
       "        ...,\n",
       "        [0, 0, 0],\n",
       "        [0, 0, 0],\n",
       "        [0, 0, 0]],\n",
       "\n",
       "       [[0, 0, 0],\n",
       "        [0, 0, 0],\n",
       "        [0, 0, 0],\n",
       "        ...,\n",
       "        [0, 0, 0],\n",
       "        [0, 0, 0],\n",
       "        [0, 0, 0]],\n",
       "\n",
       "       ...,\n",
       "\n",
       "       [[0, 0, 0],\n",
       "        [0, 0, 0],\n",
       "        [0, 0, 0],\n",
       "        ...,\n",
       "        [0, 0, 0],\n",
       "        [0, 0, 0],\n",
       "        [0, 0, 0]],\n",
       "\n",
       "       [[0, 0, 0],\n",
       "        [0, 0, 0],\n",
       "        [0, 0, 0],\n",
       "        ...,\n",
       "        [0, 0, 0],\n",
       "        [0, 0, 0],\n",
       "        [0, 0, 0]],\n",
       "\n",
       "       [[0, 0, 0],\n",
       "        [0, 0, 0],\n",
       "        [0, 0, 0],\n",
       "        ...,\n",
       "        [0, 0, 0],\n",
       "        [0, 0, 0],\n",
       "        [0, 0, 0]]], dtype=uint8),\n",
       " 'reward': array(0., dtype=float32),\n",
       " 'step_type': array(1)})"
      ]
     },
     "execution_count": 30,
     "metadata": {},
     "output_type": "execute_result"
    }
   ],
   "source": [
    "env.step(1) # fire"
   ]
  },
  {
   "cell_type": "code",
   "execution_count": 31,
   "metadata": {},
   "outputs": [
    {
     "name": "stdout",
     "output_type": "stream",
     "text": [
      "Saving figure breakout_plot\n"
     ]
    },
    {
     "data": {
      "image/png": "[encoded data removed]",
      "text/plain": [
       "<Figure size 432x576 with 1 Axes>"
      ]
     },
     "metadata": {
      "needs_background": "light"
     },
     "output_type": "display_data"
    }
   ],
   "source": [
    "img = env.render(mode='rgb_array')\n",
    "\n",
    "plt.figure(figsize=(6,8))\n",
    "plt.imshow(img)\n",
    "plt.axis('off')\n",
    "save_fig('breakout_plot')\n",
    "plt.show()"
   ]
  },
  {
   "cell_type": "code",
   "execution_count": 32,
   "metadata": {},
   "outputs": [
    {
     "data": {
      "text/plain": [
       "TimeStep(\n",
       "{'discount': array(1., dtype=float32),\n",
       " 'observation': array([[[0, 0, 0],\n",
       "        [0, 0, 0],\n",
       "        [0, 0, 0],\n",
       "        ...,\n",
       "        [0, 0, 0],\n",
       "        [0, 0, 0],\n",
       "        [0, 0, 0]],\n",
       "\n",
       "       [[0, 0, 0],\n",
       "        [0, 0, 0],\n",
       "        [0, 0, 0],\n",
       "        ...,\n",
       "        [0, 0, 0],\n",
       "        [0, 0, 0],\n",
       "        [0, 0, 0]],\n",
       "\n",
       "       [[0, 0, 0],\n",
       "        [0, 0, 0],\n",
       "        [0, 0, 0],\n",
       "        ...,\n",
       "        [0, 0, 0],\n",
       "        [0, 0, 0],\n",
       "        [0, 0, 0]],\n",
       "\n",
       "       ...,\n",
       "\n",
       "       [[0, 0, 0],\n",
       "        [0, 0, 0],\n",
       "        [0, 0, 0],\n",
       "        ...,\n",
       "        [0, 0, 0],\n",
       "        [0, 0, 0],\n",
       "        [0, 0, 0]],\n",
       "\n",
       "       [[0, 0, 0],\n",
       "        [0, 0, 0],\n",
       "        [0, 0, 0],\n",
       "        ...,\n",
       "        [0, 0, 0],\n",
       "        [0, 0, 0],\n",
       "        [0, 0, 0]],\n",
       "\n",
       "       [[0, 0, 0],\n",
       "        [0, 0, 0],\n",
       "        [0, 0, 0],\n",
       "        ...,\n",
       "        [0, 0, 0],\n",
       "        [0, 0, 0],\n",
       "        [0, 0, 0]]], dtype=uint8),\n",
       " 'reward': array(0., dtype=float32),\n",
       " 'step_type': array(1)})"
      ]
     },
     "execution_count": 32,
     "metadata": {},
     "output_type": "execute_result"
    }
   ],
   "source": [
    "env.current_time_step()"
   ]
  },
  {
   "cell_type": "markdown",
   "metadata": {},
   "source": [
    "### Environment specifications"
   ]
  },
  {
   "cell_type": "code",
   "execution_count": 34,
   "metadata": {},
   "outputs": [
    {
     "data": {
      "text/plain": [
       "BoundedArraySpec(shape=(210, 160, 3), dtype=dtype('uint8'), name='observation', minimum=0, maximum=255)"
      ]
     },
     "execution_count": 34,
     "metadata": {},
     "output_type": "execute_result"
    }
   ],
   "source": [
    "env.observation_spec()"
   ]
  },
  {
   "cell_type": "code",
   "execution_count": 35,
   "metadata": {},
   "outputs": [
    {
     "data": {
      "text/plain": [
       "BoundedArraySpec(shape=(), dtype=dtype('int64'), name='action', minimum=0, maximum=3)"
      ]
     },
     "execution_count": 35,
     "metadata": {},
     "output_type": "execute_result"
    }
   ],
   "source": [
    "env.action_spec()"
   ]
  },
  {
   "cell_type": "code",
   "execution_count": 36,
   "metadata": {},
   "outputs": [
    {
     "data": {
      "text/plain": [
       "TimeStep(\n",
       "{'discount': BoundedArraySpec(shape=(), dtype=dtype('float32'), name='discount', minimum=0.0, maximum=1.0),\n",
       " 'observation': BoundedArraySpec(shape=(210, 160, 3), dtype=dtype('uint8'), name='observation', minimum=0, maximum=255),\n",
       " 'reward': ArraySpec(shape=(), dtype=dtype('float32'), name='reward'),\n",
       " 'step_type': ArraySpec(shape=(), dtype=dtype('int32'), name='step_type')})"
      ]
     },
     "execution_count": 36,
     "metadata": {},
     "output_type": "execute_result"
    }
   ],
   "source": [
    "env.time_step_spec()"
   ]
  },
  {
   "cell_type": "markdown",
   "metadata": {},
   "source": [
    "### Environment wrappers"
   ]
  },
  {
   "cell_type": "code",
   "execution_count": 37,
   "metadata": {},
   "outputs": [
    {
     "data": {
      "text/plain": [
       "<tf_agents.environments.wrappers.ActionRepeat at 0x1b7a860f9d0>"
      ]
     },
     "execution_count": 37,
     "metadata": {},
     "output_type": "execute_result"
    }
   ],
   "source": [
    "from tf_agents.environments.wrappers import ActionRepeat\n",
    "\n",
    "repeating_env = ActionRepeat(env, times=4)\n",
    "repeating_env"
   ]
  },
  {
   "cell_type": "code",
   "execution_count": 38,
   "metadata": {},
   "outputs": [
    {
     "data": {
      "text/plain": [
       "<gym.envs.atari.environment.AtariEnv at 0x1b7a86164f0>"
      ]
     },
     "execution_count": 38,
     "metadata": {},
     "output_type": "execute_result"
    }
   ],
   "source": [
    "repeating_env.unwrapped"
   ]
  },
  {
   "cell_type": "code",
   "execution_count": 39,
   "metadata": {},
   "outputs": [
    {
     "name": "stdout",
     "output_type": "stream",
     "text": [
      "ActionClipWrapper           Wraps an environment and clips actions to spec before applying.\n",
      "ActionDiscretizeWrapper     Wraps an environment with continuous actions and discretizes them.\n",
      "ActionOffsetWrapper         Offsets actions to be zero-based.\n",
      "ActionRepeat                Repeates actions over n-steps while acummulating the received reward.\n",
      "ExtraDisabledActionsWrapper Adds extra unavailable actions.\n",
      "FixedLength                 Truncates long episodes and pads short episodes to have a fixed length.\n",
      "FlattenActionWrapper        Flattens the action.\n",
      "FlattenObservationsWrapper  Wraps an environment and flattens nested multi-dimensional observations.\n",
      "GoalReplayEnvWrapper        Adds a goal to the observation, used for HER (Hindsight Experience Replay).\n",
      "HistoryWrapper              Adds observation and action history to the environment's observations.\n",
      "ObservationFilterWrapper    Filters observations based on an array of indexes.\n",
      "OneHotActionWrapper         Converts discrete action to one_hot format.\n",
      "PerformanceProfiler         End episodes after specified number of steps.\n",
      "PyEnvironmentBaseWrapper    PyEnvironment wrapper forwards calls to the given environment.\n",
      "RunStats                    Wrapper that accumulates run statistics as the environment iterates.\n",
      "TimeLimit                   End episodes after specified number of steps.\n"
     ]
    }
   ],
   "source": [
    "# list of available wrappers\n",
    "import tf_agents.environments.wrappers\n",
    "\n",
    "for name in dir(tf_agents.environments.wrappers):\n",
    "    obj = getattr(tf_agents.environments.wrappers, name)\n",
    "    if hasattr(obj, '__base__') and issubclass(obj, tf_agents.environments.wrappers.PyEnvironmentBaseWrapper):\n",
    "        print(\"{:27s} {}\".format(name, obj.__doc__.split(\"\\n\")[0]))"
   ]
  },
  {
   "cell_type": "code",
   "execution_count": 40,
   "metadata": {},
   "outputs": [
    {
     "data": {
      "text/plain": [
       "<tf_agents.environments.wrappers.ActionRepeat at 0x1b7a5267e50>"
      ]
     },
     "execution_count": 40,
     "metadata": {},
     "output_type": "execute_result"
    }
   ],
   "source": [
    "# The suite_gym.load() function can create an env and wrap it for you, both with TF-Agents environment wrappers and Gym environment wrappers (the latter are applied first).\n",
    "from functools import partial\n",
    "from gym.wrappers import TimeLimit\n",
    "\n",
    "limited_repeating_env = suite_gym.load(\n",
    "    'Breakout-v4',\n",
    "    gym_env_wrappers=[partial(TimeLimit, max_episode_steps=10000)],\n",
    "    env_wrappers=[partial(ActionRepeat, times=4)],\n",
    ")\n",
    "\n",
    "limited_repeating_env"
   ]
  },
  {
   "cell_type": "code",
   "execution_count": 42,
   "metadata": {},
   "outputs": [],
   "source": [
    "from tf_agents.environments import suite_atari\n",
    "from tf_agents.environments.atari_preprocessing import AtariPreprocessing\n",
    "from tf_agents.environments.atari_wrappers import FrameStack4\n",
    "\n",
    "max_episode_steps = 27000\n",
    "environment_name = \"BreakoutNoFrameskip-v4\"\n",
    "\n",
    "class AtariPreprocessingWithAutoFire(AtariPreprocessing):\n",
    "    def reset(self, **kwargs):\n",
    "        obs = super().reset(**kwargs)\n",
    "        super().step(1) # FIRE to start\n",
    "        return obs\n",
    "    def step(self, action):\n",
    "        lives_before_action = self.ale.lives()\n",
    "        obs, rewards, done, info = super().step(action)\n",
    "        if self.ale.lives() < lives_before_action and not done:\n",
    "            super().step(1) # FIRE to start after life lost\n",
    "        return obs, rewards, done, info\n",
    "\n",
    "env = suite_atari.load(\n",
    "    environment_name,\n",
    "    max_episode_steps=max_episode_steps,\n",
    "    gym_env_wrappers=[AtariPreprocessingWithAutoFire, FrameStack4])"
   ]
  },
  {
   "cell_type": "code",
   "execution_count": 43,
   "metadata": {},
   "outputs": [
    {
     "data": {
      "text/plain": [
       "<tf_agents.environments.atari_wrappers.AtariTimeLimit at 0x1b7a54f3c10>"
      ]
     },
     "execution_count": 43,
     "metadata": {},
     "output_type": "execute_result"
    }
   ],
   "source": [
    "env"
   ]
  },
  {
   "cell_type": "code",
   "execution_count": 44,
   "metadata": {},
   "outputs": [],
   "source": [
    "env.seed(42)\n",
    "env.reset()\n",
    "for _ in range(4):\n",
    "    time_step = env.step(3) # LEFT"
   ]
  },
  {
   "cell_type": "code",
   "execution_count": 45,
   "metadata": {},
   "outputs": [],
   "source": [
    "def plot_observation(obs):\n",
    "    # Since there are only 3 color channels, you cannot display 4 frames\n",
    "    # with one primary color per frame. So this code computes the delta between\n",
    "    # the current frame and the mean of the other frames, and it adds this delta\n",
    "    # to the red and blue channels to get a pink color for the current frame.\n",
    "    obs = obs.astype(np.float32)\n",
    "    img = obs[..., :3]\n",
    "    current_frame_delta = np.maximum(obs[..., 3] - obs[..., :3].mean(axis=-1), 0.)\n",
    "    img[..., 0] += current_frame_delta\n",
    "    img[..., 2] += current_frame_delta\n",
    "    img = np.clip(img / 150, 0, 1)\n",
    "    plt.imshow(img)\n",
    "    plt.axis(\"off\")"
   ]
  },
  {
   "cell_type": "code",
   "execution_count": 46,
   "metadata": {},
   "outputs": [
    {
     "name": "stdout",
     "output_type": "stream",
     "text": [
      "Saving figure preprocessed_breakout_plot\n"
     ]
    },
    {
     "data": {
      "image/png": "[encoded data removed]",
      "text/plain": [
       "<Figure size 432x432 with 1 Axes>"
      ]
     },
     "metadata": {
      "needs_background": "light"
     },
     "output_type": "display_data"
    }
   ],
   "source": [
    "plt.figure(figsize=(6, 6))\n",
    "plot_observation(time_step.observation)\n",
    "save_fig(\"preprocessed_breakout_plot\")\n",
    "plt.show()"
   ]
  },
  {
   "cell_type": "code",
   "execution_count": 47,
   "metadata": {},
   "outputs": [],
   "source": [
    "# Convert the Python environment to a TF environment:\n",
    "from tf_agents.environments.tf_py_environment import TFPyEnvironment\n",
    "tf_env = TFPyEnvironment(env)"
   ]
  },
  {
   "cell_type": "markdown",
   "metadata": {},
   "source": [
    "### Creating the DQN"
   ]
  },
  {
   "cell_type": "markdown",
   "metadata": {},
   "source": []
  }
 ],
 "metadata": {
  "interpreter": {
   "hash": "94cc644795f9bb775b494e869c777be5cc42abe2b71e4c48a47924f8f028b2c9"
  },
  "kernelspec": {
   "display_name": "Python 3.9.7 ('venv': venv)",
   "language": "python",
   "name": "python3"
  },
  "language_info": {
   "codemirror_mode": {
    "name": "ipython",
    "version": 3
   },
   "file_extension": ".py",
   "mimetype": "text/x-python",
   "name": "python",
   "nbconvert_exporter": "python",
   "pygments_lexer": "ipython3",
   "version": "3.9.7"
  },
  "orig_nbformat": 4
 },
 "nbformat": 4,
 "nbformat_minor": 2
}
